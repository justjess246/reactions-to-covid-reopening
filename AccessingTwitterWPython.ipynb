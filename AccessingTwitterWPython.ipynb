{
 "cells": [
  {
   "cell_type": "code",
   "execution_count": 1,
   "metadata": {},
   "outputs": [],
   "source": [
    "import tweepy as tw"
   ]
  },
  {
   "cell_type": "code",
   "execution_count": 2,
   "metadata": {},
   "outputs": [],
   "source": [
    "# API keys for Twitter developers\n",
    "consumer_key = ''        \n",
    "consumer_secret = ''\n",
    "access_token = ''\n",
    "access_token_secret = ''"
   ]
  },
  {
   "cell_type": "code",
   "execution_count": 3,
   "metadata": {},
   "outputs": [],
   "source": [
    "auth = tw.OAuthHandler(consumer_key, consumer_secret)\n",
    "auth.set_access_token(access_token, access_token_secret)\n",
    "api = tw.API(auth, wait_on_rate_limit=True)"
   ]
  },
  {
   "cell_type": "code",
   "execution_count": 4,
   "metadata": {},
   "outputs": [
    {
     "name": "stdout",
     "output_type": "stream",
     "text": [
      "['Spanish primary school is forced to close just two days after reopening as teachers test positive for #Covid https://t.co/FooRu8XKs7', 'How back to school changes social bubbles https://t.co/d4r5pcsNFJ via @CBCTheNational \\n\\n🇨🇦😷🏫🤔\\n\\n#schoolsreopening… https://t.co/Wje5cGHB8v', 'This is sad, horrifying, disgusting -- and ultimately not surprising. Our cultuer was ready to arm K-12 teachers as… https://t.co/WEjQ5iBgbi', 'Supersize your ability to read temps of #students.Protect #teachers &amp; others with this 55\" #temperaturescanner Room… https://t.co/PyHaQ98f6f', 'Mayor Sylvester Turner speaking to reporters yesterday about the new Reopening plans for Houston\\n\\n#covid #virus… https://t.co/Y8HptgWWxr', '#Teacher, 28, dies of #Covid19 as US #schools prepare for return to #classrooms #covid #coronavirus\\n\\n• Demetria Ban… https://t.co/w6YAVzQRXe', 'Precautions for clinics reopening include mandatory social distancing in waiting rooms, frequent and meticulous dis… https://t.co/SIZ8RP9tEN', 'COVID-19: Delta reopens cinemas, hotel restaurants \\n\\nDelta Government on Thursday announced the reopening of cinema… https://t.co/TYzFrJ0Ogb', '“JPMorgan Return To Office” \\u2066@trdny\\u2069 - First major corporation to announce a #reopening of this magnitude. #NYC eco… https://t.co/nM14bUutwJ', '@rtenews.#twip #rtept #cblive #TonightVMTV #Covid-19 #cblive Planned pubs reopening date at risk due to rising cases https://t.co/UR3qijZA7Z', 'Mental health support, better remote instruction and a focus on vulnerable students: High schoolers are pressing le… https://t.co/FD93w9F7hx']\n"
     ]
    }
   ],
   "source": [
    "search_term = \"#covid+reopening -filter:retweets\"\n",
    "\n",
    "# filtering through the tweets defined by search term, language, and start date\n",
    "tweets = tw.Cursor(api.search,\n",
    "                   q=search_term,\n",
    "                   lang=\"en\",\n",
    "                   since='2020-06-01').items(200)\n",
    "\n",
    "all_tweets = [tweet.text for tweet in tweets]\n",
    "\n",
    "print(all_tweets[0:11])"
   ]
  },
  {
   "cell_type": "code",
   "execution_count": null,
   "metadata": {},
   "outputs": [],
   "source": []
  }
 ],
 "metadata": {
  "kernelspec": {
   "display_name": "Python 3",
   "language": "python",
   "name": "python3"
  },
  "language_info": {
   "codemirror_mode": {
    "name": "ipython",
    "version": 3
   },
   "file_extension": ".py",
   "mimetype": "text/x-python",
   "name": "python",
   "nbconvert_exporter": "python",
   "pygments_lexer": "ipython3",
   "version": "3.7.6"
  }
 },
 "nbformat": 4,
 "nbformat_minor": 4
}
